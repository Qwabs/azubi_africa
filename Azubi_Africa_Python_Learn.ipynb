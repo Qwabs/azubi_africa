{
  "nbformat": 4,
  "nbformat_minor": 0,
  "metadata": {
    "colab": {
      "provenance": [],
      "authorship_tag": "ABX9TyO5Cp8kUKzUovn1cQ9vb74R",
      "include_colab_link": true
    },
    "kernelspec": {
      "name": "python3",
      "display_name": "Python 3"
    },
    "language_info": {
      "name": "python"
    }
  },
  "cells": [
    {
      "cell_type": "markdown",
      "metadata": {
        "id": "view-in-github",
        "colab_type": "text"
      },
      "source": [
        "<a href=\"https://colab.research.google.com/github/Qwabs/azubi_africa/blob/main/Azubi_Africa_Python_Learn.ipynb\" target=\"_parent\"><img src=\"https://colab.research.google.com/assets/colab-badge.svg\" alt=\"Open In Colab\"/></a>"
      ]
    },
    {
      "cell_type": "code",
      "execution_count": null,
      "metadata": {
        "colab": {
          "base_uri": "https://localhost:8080/"
        },
        "id": "8TWDWshzAG1l",
        "outputId": "7434d10d-0612-4300-a273-4f38e3d40152"
      },
      "outputs": [
        {
          "output_type": "stream",
          "name": "stdout",
          "text": [
            "I am new here on Google Colab and I hope to have fun in this tool.\n"
          ]
        }
      ],
      "source": [
        "print(\"I am new here on Google Colab and I hope to have fun in this tool.\")"
      ]
    },
    {
      "cell_type": "code",
      "source": [
        "def cinema_ticket_pricing(age):\n",
        "\n",
        "  if (age>=0) and (age<16):\n",
        "    price = 10\n",
        "\n",
        "  elif (age>=16) and (age<65):\n",
        "    price = 15\n",
        "\n",
        "  elif (age>=65):\n",
        "    price = 25\n",
        "\n",
        "  else:\n",
        "    price = 0\n",
        "\n",
        "  # The Price Validation Of The program\n",
        "\n",
        "  if price == 0:\n",
        "    print(f\"Sorry, there is something wrong with the price you entered\")\n",
        "  else:\n",
        "    print(f\"The price of your ticket is : {price}\")\n",
        "\n",
        "  return price\n",
        "\n",
        "age_str = input(\"Please Enter your age\\n\")\n",
        "age = int(age_str)\n",
        "cinema_ticket_pricing(age)\n"
      ],
      "metadata": {
        "colab": {
          "base_uri": "https://localhost:8080/"
        },
        "id": "1ccfUCxzArlx",
        "outputId": "e7704807-54e2-4f8e-a053-18691d3669f8"
      },
      "execution_count": null,
      "outputs": [
        {
          "output_type": "stream",
          "name": "stdout",
          "text": [
            "Please Enter your age\n",
            "35\n",
            "The price of your ticket is : 15\n"
          ]
        },
        {
          "output_type": "execute_result",
          "data": {
            "text/plain": [
              "15"
            ]
          },
          "metadata": {},
          "execution_count": 6
        }
      ]
    },
    {
      "cell_type": "code",
      "source": [],
      "metadata": {
        "id": "yhPCjvmQBPaQ"
      },
      "execution_count": null,
      "outputs": []
    }
  ]
}